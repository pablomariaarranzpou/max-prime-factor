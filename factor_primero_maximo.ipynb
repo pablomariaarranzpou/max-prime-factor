{
 "cells": [
  {
   "cell_type": "code",
   "execution_count": null,
   "metadata": {},
   "outputs": [],
   "source": [
    "from math import sqrt\n",
    "\n",
    "def factor_primero_maximo(n): \n",
    "      \n",
    "    maximo = 0\n",
    "    i = 3\n",
    "    \n",
    "    ## Miramos cuantas veces es divisible entre 2 para eliminarlo como factor dividiendo entre 2. \n",
    "    ## Explicación: 8 = 2 * 2 * 2 si disvidimos entre 2 ya hemos eliminado un 2. (4 = 2 * 2). Estamos\n",
    "    ## eliminando cuantos doses sea posible. (Porque es el unico primo par).\n",
    "    \n",
    "    while n % 2 == 0:\n",
    "        \n",
    "        maximo = 2\n",
    "        n = n // 2     \n",
    "    \n",
    "    \n",
    "    # Ahora solo iteraremos los impares porque ya damos por hecho que \n",
    "    # el unico primo par es dos y hemos eliminado todas sus apariciones. \n",
    "    # Hasta que el iterador sea más pequeño que la raiz cuadrada\n",
    "    # de n iremos eliminando las divisiones de los primos impares. (Eratostenes)\n",
    "    \n",
    "    while math.sqrt(n) >= i:\n",
    "            \n",
    "        if n % i == 0:\n",
    "            \n",
    "            ## Hacemos lo mismo para eliminar si ese factor está repetido o su aparicion\n",
    "            maximo = i\n",
    "            n = n // i\n",
    "            \n",
    "        i += 2 \n",
    "    \n",
    "    # Si al acabar el numero que queda como n es más grande que 2 ese es máximo factor ya que si ha llegado \n",
    "    # hasta aqui es un numero primo al ser factor.\n",
    "\n",
    "    if n > 2: \n",
    "        maximo = n\n",
    "      \n",
    "    return maximo\n",
    "\n",
    "factor_primero_maximo(600851475143)"
   ]
  }
 ],
 "metadata": {
  "kernelspec": {
   "display_name": "Python 3",
   "language": "python",
   "name": "python3"
  },
  "language_info": {
   "codemirror_mode": {
    "name": "ipython",
    "version": 3
   },
   "file_extension": ".py",
   "mimetype": "text/x-python",
   "name": "python",
   "nbconvert_exporter": "python",
   "pygments_lexer": "ipython3",
   "version": "3.8.3"
  }
 },
 "nbformat": 4,
 "nbformat_minor": 4
}
